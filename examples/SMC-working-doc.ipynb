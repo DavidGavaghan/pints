{
 "cells": [
  {
   "cell_type": "markdown",
   "metadata": {},
   "source": []
  },
  {
   "cell_type": "code",
   "execution_count": 1,
   "metadata": {
    "collapsed": true
   },
   "outputs": [],
   "source": [
    "import numpy as np\n",
    "from scipy import stats\n",
    "import matplotlib.pyplot as plt"
   ]
  },
  {
   "cell_type": "markdown",
   "metadata": {},
   "source": [
    "Sample from Student t distribution using SMC."
   ]
  },
  {
   "cell_type": "code",
   "execution_count": 12,
   "metadata": {},
   "outputs": [
    {
     "data": {
      "image/png": "[encoded data removed]",
      "text/plain": [
       "<matplotlib.figure.Figure at 0x9b5d710>"
      ]
     },
     "metadata": {},
     "output_type": "display_data"
    }
   ],
   "source": [
    "x = np.linspace(-10,10,100)\n",
    "y = stats.t.pdf(x,1)\n",
    "plt.plot(x,y)\n",
    "plt.show()"
   ]
  },
  {
   "cell_type": "code",
   "execution_count": 171,
   "metadata": {},
   "outputs": [
    {
     "data": {
      "image/png": "[encoded data removed]",
      "text/plain": [
       "<matplotlib.figure.Figure at 0xb1a5668>"
      ]
     },
     "metadata": {},
     "output_type": "display_data"
    }
   ],
   "source": [
    "plt.hist(iterateSecondSMCStep(100,10,initialSMCStep(10,1)[0],1000),50)\n",
    "plt.show()"
   ]
  },
  {
   "cell_type": "code",
   "execution_count": 88,
   "metadata": {},
   "outputs": [
    {
     "data": {
      "image/png": "[encoded data removed]",
      "text/plain": [
       "<matplotlib.figure.Figure at 0x1a135fe3d0>"
      ]
     },
     "metadata": {},
     "output_type": "display_data"
    }
   ],
   "source": [
    "lTest = np.random.standard_t(1,1000)\n",
    "plt.hist(lTest,1000)\n",
    "plt.xlim([-30,30])\n",
    "plt.show()"
   ]
  },
  {
   "cell_type": "code",
   "execution_count": 74,
   "metadata": {
    "collapsed": true
   },
   "outputs": [],
   "source": [
    "def q(aCurrent,aPrevious,aSigma):\n",
    "    return stats.norm.pdf(aCurrent,loc=aPrevious,scale=aSigma)\n",
    "def gamma(aCurrent,df):\n",
    "    return stats.t.pdf(aCurrent,df)\n",
    "def weight(aCurrent,aPrevious,aSigma,df):\n",
    "    return gamma(aCurrent,df) / (gamma(aPrevious,df) * q(aCurrent,aPrevious,aSigma))\n",
    "def qSample(aPrevious,aSigma):\n",
    "    return np.random.normal(loc=aPrevious,scale=aSigma,size=1)[0]\n",
    "def qSampleAll(lPrevious,aSigma):\n",
    "    return map(lambda x: qSample(x,aSigma), lPrevious)\n",
    "def weightsAll(lCurrent,lPrevious,aSigma,df):\n",
    "    lWeights = map(lambda (x, y): weight(x, y, aSigma, df), zip(lCurrent,lPrevious))\n",
    "    return lWeights / np.sum(lWeights)\n",
    "def resample(lWeights,lSamples):\n",
    "    numSamples = len(lWeights)\n",
    "    lSelected = np.random.multinomial(numSamples,lWeights)\n",
    "    lNewSample = np.zeros(0)\n",
    "    for i in range(0,numSamples):\n",
    "        if lSelected[i] > 0:\n",
    "            lNewSample = np.concatenate((lNewSample,np.repeat(lSamples[i],lSelected[i])))\n",
    "    return lNewSample\n",
    "def step(lCurrent,aSigma,df):\n",
    "    lNew = qSampleAll(lCurrent,aSigma)\n",
    "    lWeights = weightsAll(lNew,lCurrent,aSigma,df)\n",
    "    lResampled = resample(lWeights,lNew)\n",
    "    return lResampled\n",
    "def smc(numIterates,numSamples,aSigma,df):\n",
    "    mSamples = np.zeros((numSamples,numIterates))\n",
    "    mSamples[:,0] = step(np.repeat(0,numSamples),aSigma,df)\n",
    "    for i in range(1,numIterates):\n",
    "        mSamples[:,i] = step(mSamples[:,i-1],aSigma,df)\n",
    "    return mSamples.flatten()"
   ]
  },
  {
   "cell_type": "code",
   "execution_count": 83,
   "metadata": {},
   "outputs": [
    {
     "data": {
      "image/png": "[encoded data removed]",
      "text/plain": [
       "<matplotlib.figure.Figure at 0x1a0bf59ed0>"
      ]
     },
     "metadata": {},
     "output_type": "display_data"
    }
   ],
   "source": [
    "lTest = smc(100,50,2,1)\n",
    "plt.hist(lTest,100)\n",
    "plt.show()"
   ]
  },
  {
   "cell_type": "markdown",
   "metadata": {},
   "source": [
    "# Particle MCMC"
   ]
  },
  {
   "cell_type": "code",
   "execution_count": 110,
   "metadata": {
    "collapsed": true
   },
   "outputs": [],
   "source": [
    "def accept(aProposed,aCurrent,df):\n",
    "    aProposedPDF = stats.t.pdf(aProposed,df)\n",
    "    aCurrentPDF = stats.t.pdf(aCurrent,df)\n",
    "    aRand = np.random.uniform()\n",
    "    if (aProposedPDF / aCurrentPDF) > aRand:\n",
    "        return aProposed\n",
    "    else:\n",
    "        return aCurrent\n",
    "def stepAndAccept(aCurrent,aSigma,df):\n",
    "    aProposed = qSample(aCurrent,aSigma)\n",
    "    return accept(aProposed,aCurrent,df)\n",
    "def metropolis(numSteps,aSigma,df):\n",
    "    lSamples = np.zeros(numSteps)\n",
    "    lSamples[0] = np.random.normal(0,1,1)[0]\n",
    "    for i in range(1,numSteps):\n",
    "        lSamples[i] = stepAndAccept(lSamples[i-1],aSigma,df)\n",
    "    return lSamples\n",
    "def sequentialStep(aCurrent,numSamples,aSigma,df):\n",
    "    lCurrent = np.repeat(aCurrent,numSamples)\n",
    "    lNew = qSampleAll(lCurrent,aSigma)\n",
    "    lWeights = weightsAll(lNew,lCurrent,aSigma,df)\n",
    "    lResampled = resample(lWeights,lNew)\n",
    "    return lResampled\n",
    "def particleMCMC(numSteps,numSamples,aSigma,df):\n",
    "    lMetropolis = metropolis(numSteps,aSigma,df)\n",
    "    mSamples = map(lambda x: sequentialStep(x,numSamples,aSigma,df), lMetropolis)\n",
    "    return np.concatenate(mSamples,axis = 0).flatten()"
   ]
  },
  {
   "cell_type": "code",
   "execution_count": 119,
   "metadata": {},
   "outputs": [
    {
     "data": {
      "image/png": "[encoded data removed]",
      "text/plain": [
       "<matplotlib.figure.Figure at 0x1a146cd890>"
      ]
     },
     "metadata": {},
     "output_type": "display_data"
    }
   ],
   "source": [
    "plt.hist(particleMCMC(1000,10,3,1),100)\n",
    "plt.show()"
   ]
  },
  {
   "cell_type": "markdown",
   "metadata": {},
   "source": [
    "# SMC done properly"
   ]
  },
  {
   "cell_type": "code",
   "execution_count": 152,
   "metadata": {
    "collapsed": true
   },
   "outputs": [],
   "source": [
    "def mixtureTarget(x):\n",
    "    return 0.5 * (stats.norm.pdf(x,loc=0,scale=1) + stats.norm.pdf(x,loc=8,scale=1))"
   ]
  },
  {
   "cell_type": "code",
   "execution_count": 153,
   "metadata": {},
   "outputs": [
    {
     "data": {
      "image/png": "[encoded data removed]",
      "text/plain": [
       "<matplotlib.figure.Figure at 0x1a13474550>"
      ]
     },
     "metadata": {},
     "output_type": "display_data"
    }
   ],
   "source": [
    "x = np.linspace(-5,15,100)\n",
    "plt.plot(x,mixtureTarget(x))\n",
    "plt.show()"
   ]
  },
  {
   "cell_type": "code",
   "execution_count": 162,
   "metadata": {
    "collapsed": true
   },
   "outputs": [],
   "source": [
    "def temperedDistribution(x,beta):\n",
    "    return (mixtureTarget(x) ** beta) * (stats.norm.pdf(x,loc=4,scale=30) ** (1 - beta))"
   ]
  },
  {
   "cell_type": "code",
   "execution_count": 167,
   "metadata": {},
   "outputs": [
    {
     "data": {
      "image/png": "[encoded data removed]",
      "text/plain": [
       "<matplotlib.figure.Figure at 0x1a133f7e10>"
      ]
     },
     "metadata": {},
     "output_type": "display_data"
    }
   ],
   "source": [
    "x = np.linspace(-50,50,1000)\n",
    "plt.plot(x,temperedDistribution(x,0.9))\n",
    "plt.ylim([0,0.2])\n",
    "plt.show()"
   ]
  },
  {
   "cell_type": "code",
   "execution_count": 403,
   "metadata": {
    "collapsed": true
   },
   "outputs": [],
   "source": [
    "# From Moral et al. (2006) \"Sequential Monte Carlo Samplers\" algorithm 3.1.1\n",
    "def initialStep(numParticles):\n",
    "    lSamples = np.random.normal(loc=4,scale=10,size=numParticles)\n",
    "    lWeights = map(lambda x: temperedDistribution(x,1) / stats.norm.pdf(x,loc=4,scale=10),lSamples)\n",
    "    lWeights = lWeights / np.sum(lWeights)\n",
    "    return lSamples, lWeights\n",
    "def resample(lWeights,lSamples):\n",
    "    numSamples = len(lWeights)\n",
    "    lSelected = np.random.multinomial(numSamples,lWeights)\n",
    "    lNewSample = np.zeros(0)\n",
    "    for i in range(0,numSamples):\n",
    "        if lSelected[i] > 0:\n",
    "            lNewSample = np.concatenate((lNewSample,np.repeat(lSamples[i],lSelected[i])))\n",
    "    return lNewSample, np.repeat(1.0/numSamples,numSamples)\n",
    "def kernelSample(lSamples,beta,aSigma):\n",
    "    numParticles = len(lSamples)\n",
    "    lProposed = map(lambda x: np.random.normal(loc=x,scale=aSigma,size=1)[0], lSamples)\n",
    "    lNewSamples = map(lambda (old,new): old if (temperedDistribution(new,beta) / temperedDistribution(old,beta)) <=\n",
    "                      np.random.uniform(size=1) else new, zip(lSamples,lProposed))\n",
    "    return lNewSamples\n",
    "def wTilde(xOld,xNew,betaOld,betaNew,aSigma):\n",
    "    numerator = temperedDistribution(xNew,betaNew) * L(xNew,xOld,betaOld,aSigma)\n",
    "    denominator = temperedDistribution(xOld,betaOld) * K(xOld,xNew,betaNew,aSigma)\n",
    "    return numerator / denominator\n",
    "def K(xOld,xNew,beta,aSigma):\n",
    "    return stats.norm.pdf(xNew,loc=xOld,scale=aSigma) * temperedDistribution(xNew,beta) / temperedDistribution(xOld,beta)\n",
    "def L(xNew,xOld,beta,aSigma):\n",
    "    return temperedDistribution(xOld,beta) * K(xOld,xNew,beta,aSigma) / temperedDistribution(xNew,beta)\n",
    "def newWeight(WOld,xOld,xNew,betaOld,betaNew,aSigma):\n",
    "    wtilde = wTilde(xOld,xNew,betaOld,betaNew,aSigma)\n",
    "    return WOld * wtilde\n",
    "def newWeights(lWOld,lSamplesOld,lSamplesNew,betaOld,betaNew,aSigma):\n",
    "    lNewW = map(lambda (WOld,xOld,xNew): newWeight(WOld,xOld,xNew,betaOld,betaNew,aSigma),zip(lWOld,lSamplesOld,lSamplesNew))\n",
    "    return lNewW / np.sum(lNewW)\n",
    "def steps2And3(lSamplesOld,lWeightsOld,betaOld,betaNew,aSigma):\n",
    "    lResamples, lWOld = resample(lWeightsOld,lSamplesOld)\n",
    "    lSamplesNew = kernelSample(lResamples,betaNew,aSigma)\n",
    "    lNewW = newWeights(lWOld,lSamplesOld,lSamplesNew,betaOld,betaNew,aSigma)\n",
    "    lResamplesNew, lWeightsNew = resample(lNewW,lSamplesNew)\n",
    "    return lResamplesNew, lWeightsNew\n",
    "def iterate(lBetaSchedule,lSamplesFromStep1,lWeightsFromStep1,aSigma):\n",
    "    numIterates = len(lBetaSchedule)\n",
    "    numParticles = len(lSamplesFromStep1)\n",
    "    mSamples = np.zeros((numParticles,numIterates))\n",
    "    mSamples[:,0] = lSamplesFromStep1\n",
    "    lWeightsOld = lWeightsFromStep1\n",
    "    for i in range(0,numIterates-1):\n",
    "        lNewSamples,lWeightsNew = steps2And3(mSamples[:,i],lWeightsOld,lBetaSchedule[i],lBetaSchedule[i+1],aSigma)\n",
    "        lWeightsOld = lWeightsNew\n",
    "        mSamples[:,i+1] = lNewSamples\n",
    "    return mSamples[:,-1]"
   ]
  },
  {
   "cell_type": "code",
   "execution_count": 407,
   "metadata": {},
   "outputs": [
    {
     "data": {
      "image/png": "[encoded data removed]",
      "text/plain": [
       "<matplotlib.figure.Figure at 0x1a13cdcf50>"
      ]
     },
     "metadata": {},
     "output_type": "display_data"
    }
   ],
   "source": [
    "lSamples, lWeights = initialStep(1000)\n",
    "lBeta = np.linspace(0.0,1.0,10)\n",
    "\n",
    "plt.hist(iterate(lBeta,lSamples,lWeights,1))\n",
    "plt.show()"
   ]
  },
  {
   "cell_type": "code",
   "execution_count": 256,
   "metadata": {},
   "outputs": [
    {
     "data": {
      "text/plain": [
       "10"
      ]
     },
     "execution_count": 256,
     "metadata": {},
     "output_type": "execute_result"
    }
   ],
   "source": [
    "len(lSamples)"
   ]
  },
  {
   "cell_type": "code",
   "execution_count": 250,
   "metadata": {},
   "outputs": [
    {
     "data": {
      "text/plain": [
       "(array([-0.14183927,  1.65111927,  3.        ,  4.25945191]),\n",
       " array([ 0.25,  0.25,  0.25,  0.25]))"
      ]
     },
     "execution_count": 250,
     "metadata": {},
     "output_type": "execute_result"
    }
   ],
   "source": [
    "steps2And3([1,2,3,4],np.repeat(0.25,4),0.5,0.6,1)"
   ]
  },
  {
   "cell_type": "code",
   "execution_count": null,
   "metadata": {
    "collapsed": true
   },
   "outputs": [],
   "source": []
  }
 ],
 "metadata": {
  "kernelspec": {
   "display_name": "Python 2",
   "language": "python",
   "name": "python2"
  },
  "language_info": {
   "codemirror_mode": {
    "name": "ipython",
    "version": 2
   },
   "file_extension": ".py",
   "mimetype": "text/x-python",
   "name": "python",
   "nbconvert_exporter": "python",
   "pygments_lexer": "ipython2",
   "version": "2.7.14"
  }
 },
 "nbformat": 4,
 "nbformat_minor": 2
}
